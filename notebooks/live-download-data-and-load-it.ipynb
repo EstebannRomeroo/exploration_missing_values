{
 "cells": [
  {
   "cell_type": "markdown",
   "metadata": {
    "cell_id": "eb28bd9073944de3bad47f63a3f22c8f",
    "deepnote_cell_height": 70,
    "deepnote_cell_type": "markdown",
    "tags": []
   },
   "source": [
    "## Importar librerías"
   ]
  },
  {
   "cell_type": "code",
   "execution_count": 27,
   "metadata": {
    "cell_id": "f830648cf8544872bd1ffd508bec7d14",
    "deepnote_cell_type": "code",
    "deepnote_to_be_reexecuted": false,
    "execution_millis": 4176,
    "execution_start": 1659038357650,
    "output_cleared": true,
    "source_hash": "accb08f2",
    "tags": []
   },
   "outputs": [],
   "source": [
    "import janitor\n",
    "import nhanes.load\n",
    "import numpy as np\n",
    "import pandas as pd\n",
    "import missingno"
   ]
  },
  {
   "cell_type": "markdown",
   "metadata": {
    "cell_id": "f67f5447177d4d04a1c9cd5f108ba0da",
    "deepnote_cell_height": 70,
    "deepnote_cell_type": "markdown",
    "tags": []
   },
   "source": [
    "## Importar funciones personalizadas"
   ]
  },
  {
   "cell_type": "code",
   "execution_count": 28,
   "metadata": {
    "cell_id": "a767a63ea3414836a1fa4136ca72f7a4",
    "deepnote_cell_type": "code",
    "deepnote_to_be_reexecuted": false,
    "execution_millis": 132,
    "execution_start": 1659038361834,
    "output_cleared": true,
    "source_hash": "6ec9e095",
    "tags": []
   },
   "outputs": [],
   "source": [
    "%run pandas-missing-extension.ipynb"
   ]
  },
  {
   "cell_type": "markdown",
   "metadata": {
    "cell_id": "97414bf1c06a4eb8ad255cf964a9f691",
    "deepnote_cell_height": 70,
    "deepnote_cell_type": "markdown",
    "tags": []
   },
   "source": [
    "## Cargar los datos de NHANES"
   ]
  },
  {
   "cell_type": "code",
   "execution_count": 37,
   "metadata": {
    "cell_id": "78b3557c0f664ebaae15f9217eeded56",
    "deepnote_cell_type": "code",
    "deepnote_to_be_reexecuted": false,
    "execution_millis": 496,
    "execution_start": 1659038361972,
    "output_cleared": true,
    "source_hash": "5621fb47",
    "tags": []
   },
   "outputs": [
    {
     "data": {
      "text/plain": [
       "['general_health_condition',\n",
       " 'ever_breastfed_or_fed_breastmilk',\n",
       " 'age_stopped_breastfeedingdays',\n",
       " 'age_first_fed_formuladays',\n",
       " 'age_stopped_receiving_formuladays',\n",
       " 'age_started_other_foodbeverage',\n",
       " 'age_first_fed_milkdays',\n",
       " 'type_of_milk_first_fed_whole_milk',\n",
       " 'type_of_milk_first_fed2_milk',\n",
       " 'type_of_milk_first_fed1_milk',\n",
       " 'type_of_milk_first_fed_fat_free_milk',\n",
       " 'type_of_milk_first_fed_soy_milk',\n",
       " 'type_of_milk_first_fed_other',\n",
       " 'how_healthy_is_the_diet',\n",
       " 'past30_day_milk_product_consumption',\n",
       " 'you_drink_whole_or_regular_milk',\n",
       " 'you_drink2_fat_milk',\n",
       " 'you_drink1_fat_milk',\n",
       " 'you_drink_fat_freeskim_milk',\n",
       " 'you_drink_soy_milk',\n",
       " 'you_drink_another_type_of_milk',\n",
       " 'regular_milk_use5_times_per_week',\n",
       " 'how_often_drank_milk_age512',\n",
       " 'how_often_drank_milk_age1317',\n",
       " 'how_often_drank_milk_age1835',\n",
       " 'communitygovernment_meals_delivered',\n",
       " 'eat_meals_at_communitysenior_center',\n",
       " 'attend_kindergarten_thru_high_school',\n",
       " 'school_serves_school_lunches',\n",
       " 'of_timesweek_get_school_lunch',\n",
       " 'school_lunch_free_reduced_or_full_price',\n",
       " 'school_serve_complete_breakfast_each_day',\n",
       " 'of_timesweek_get_school_breakfast',\n",
       " 'school_breakfast_freereducedfull_price',\n",
       " 'summer_program_meal_freereduced_price',\n",
       " 'of_meals_not_home_prepared',\n",
       " 'of_meals_from_fast_food_or_pizza_place',\n",
       " 'of_readytoeat_foods_in_past30_days',\n",
       " 'of_frozen_mealspizza_in_past30_days',\n",
       " 'heard_of_my_plate',\n",
       " 'looked_up_my_plate_on_internet',\n",
       " 'tried_my_plate_plan',\n",
       " 'main_meal_plannerpreparer',\n",
       " 'shared_meal_planningpreparing_duty',\n",
       " 'main_food_shopper',\n",
       " 'shared_food_shopping_duty',\n",
       " 'have_serious_difficulty_hearing',\n",
       " 'have_serious_difficulty_seeing',\n",
       " 'have_serious_difficulty_concentrating',\n",
       " 'have_serious_difficulty_walking',\n",
       " 'have_difficulty_dressing_or_bathing',\n",
       " 'have_difficulty_doing_errands_alone',\n",
       " 'how_often_do_you_feel_worried_or_anxious',\n",
       " 'take_medication_for_these_feelings',\n",
       " 'how_often_do_you_feel_depressed',\n",
       " 'take_medication_for_depression',\n",
       " 'covered_by_health_insurance',\n",
       " 'usual_sleep_time_on_weekdays_or_workdays',\n",
       " 'usual_wake_time_on_weekdays_or_workdays',\n",
       " 'sleep_hours_weekdays_or_workdays',\n",
       " 'how_often_do_you_snore',\n",
       " 'ever_told_doctor_had_trouble_sleeping',\n",
       " 'how_often_feel_overly_sleepy_during_day',\n",
       " 'have_little_interest_in_doing_things',\n",
       " 'feeling_down_depressed_or_hopeless',\n",
       " 'trouble_sleeping_or_sleeping_too_much',\n",
       " 'feeling_tired_or_having_little_energy',\n",
       " 'poor_appetite_or_overeating',\n",
       " 'feeling_bad_about_yourself',\n",
       " 'trouble_concentrating_on_things',\n",
       " 'moving_or_speaking_slowly_or_too_fast',\n",
       " 'thought_you_would_be_better_off_dead',\n",
       " 'difficulty_these_problems_have_caused',\n",
       " 'smoked_tobacco_last5_days',\n",
       " 'days_smoked_cigarettes_last5_days',\n",
       " 'cigarettes_smoked_per_day',\n",
       " 'used_any_tobacco_product_last5_days',\n",
       " 'experience_confusionmemory_problems',\n",
       " 'physical_mental_emotional_limitations',\n",
       " 'difficulty_managing_money',\n",
       " '60_sec_hr30_sec_hr2',\n",
       " '60_sec_pulse30_sec_pulse2',\n",
       " 'systolic_blood_pres1_st_rdg_mm_hg',\n",
       " 'diastolic_blood_pres1_st_rdg_mm_hg',\n",
       " 'systolic_blood_pres2_nd_rdg_mm_hg',\n",
       " 'diastolic_blood_pres2_nd_rdg_mm_hg',\n",
       " 'systolic_blood_pres3_rd_rdg_mm_hg',\n",
       " 'diastolic_blood_pres3_rd_rdg_mm_hg',\n",
       " 'energy_kcal_dr2_tot',\n",
       " 'protein_gm_dr2_tot',\n",
       " 'carbohydrate_gm_dr2_tot',\n",
       " 'total_sugars_gm_dr2_tot',\n",
       " 'dietary_fiber_gm_dr2_tot',\n",
       " 'total_fat_gm_dr2_tot',\n",
       " 'total_saturated_fatty_acids_gm_dr2_tot',\n",
       " 'total_monounsaturated_fatty_acids_gm_dr2_tot',\n",
       " 'total_polyunsaturated_fatty_acids_gm_dr2_tot',\n",
       " 'cholesterol_mg_dr2_tot',\n",
       " 'alcohol_gm_dr2_tot',\n",
       " 'weight_kg',\n",
       " 'recumbent_length_cm',\n",
       " 'standing_height_cm',\n",
       " 'body_mass_index_kgm2',\n",
       " 'waist_circumference_cm',\n",
       " 'direct_hdlcholesterol_mgdl',\n",
       " 'total_cholesterol_mgdl',\n",
       " 'vigorous_work_activity',\n",
       " 'moderate_work_activity',\n",
       " 'walk_or_bicycle',\n",
       " 'vigorous_recreational_activities',\n",
       " 'moderate_recreational_activities',\n",
       " 'minutes_sedentary_activity',\n",
       " 'ever_been_told_you_have_asthma',\n",
       " 'doctor_ever_said_you_had_arthritis',\n",
       " 'ever_told_you_had_heart_attack',\n",
       " 'age_when_told_you_had_heart_attack',\n",
       " 'ever_told_you_had_a_stroke',\n",
       " 'age_when_told_you_had_a_stroke',\n",
       " 'ever_told_you_had_cancer_or_malignancy',\n",
       " '1_st_cancer_what_kind_was_it',\n",
       " 'age1_st_cancer_mcq230_a_diagnosed',\n",
       " 'ever_used_marijuana_or_hashish',\n",
       " 'days_used_marijuana_or_hashishmonth',\n",
       " 'ever_used_cocaineheroinmethamphetamine',\n",
       " 'ever_use_any_form_of_cocaine',\n",
       " 'of_days_used_cocainemonth',\n",
       " 'ever_used_heroin',\n",
       " 'of_days_used_heroinmonth',\n",
       " 'ever_used_methamphetamine',\n",
       " 'days_used_methamphetaminemonth',\n",
       " 'ever_been_in_rehabilitation_program',\n",
       " 'blood_lead_ugdl',\n",
       " 'blood_cadmium_ugl',\n",
       " 'blood_mercury_total_ugl',\n",
       " 'blood_selenium_ugl',\n",
       " 'blood_manganese_ugl',\n",
       " 'gender',\n",
       " 'age_in_years_at_screening',\n",
       " 'age_in_months_at_screening0_to24_mos',\n",
       " 'racehispanic_origin',\n",
       " 'racehispanic_origin_w_nh_asian',\n",
       " 'served_active_duty_in_us_armed_forces',\n",
       " 'education_level_childrenyouth619',\n",
       " 'education_level_adults20',\n",
       " 'marital_status',\n",
       " 'total_number_of_people_in_the_household',\n",
       " 'total_number_of_people_in_the_family',\n",
       " 'of_children5_years_or_younger_in_hh',\n",
       " 'of_children617_years_old_in_hh',\n",
       " 'of_adults60_years_or_older_in_hh',\n",
       " 'annual_household_income',\n",
       " 'annual_family_income',\n",
       " 'ratio_of_family_income_to_poverty',\n",
       " 'trunk_fat_g',\n",
       " 'trunk_percent_fat',\n",
       " 'total_percent_fat',\n",
       " 'how_often_add_salt_to_food_at_table',\n",
       " 'on_special_diet',\n",
       " 'weight_losslow_calorie_diet',\n",
       " 'low_fatlow_cholesterol_diet',\n",
       " 'low_saltlow_sodium_diet',\n",
       " 'diabetic_diet',\n",
       " 'low_carbohydrate_diet',\n",
       " 'energy_kcal_dr1_tot',\n",
       " 'protein_gm_dr1_tot',\n",
       " 'carbohydrate_gm_dr1_tot',\n",
       " 'total_sugars_gm_dr1_tot',\n",
       " 'dietary_fiber_gm_dr1_tot',\n",
       " 'total_fat_gm_dr1_tot',\n",
       " 'total_saturated_fatty_acids_gm_dr1_tot',\n",
       " 'total_monounsaturated_fatty_acids_gm_dr1_tot',\n",
       " 'total_polyunsaturated_fatty_acids_gm_dr1_tot',\n",
       " 'cholesterol_mg_dr1_tot',\n",
       " 'alcohol_gm_dr1_tot',\n",
       " 'tuna_eaten_during_past30_days',\n",
       " 'doctor_told_you_have_diabetes',\n",
       " 'age_when_first_told_you_had_diabetes',\n",
       " 'ever_told_you_have_prediabetes',\n",
       " 'ever_told_have_health_risk_for_diabetes',\n",
       " 'family_history',\n",
       " 'taking_insulin_now',\n",
       " 'take_diabetic_pills_to_lower_blood_sugar',\n",
       " 'what_was_your_last_a1_c_level',\n",
       " 'glycohemoglobin',\n",
       " 'smoked_at_least100_cigarettes_in_life',\n",
       " 'age_started_smoking_cigarettes_regularly',\n",
       " 'do_you_now_smoke_cigarettes',\n",
       " 'days_smoked_cigs_during_past30_days',\n",
       " 'avg_cigarettesday_during_past30_days',\n",
       " 'tried_to_quit_smoking',\n",
       " 'times_stopped_smoking_cigarettes',\n",
       " 'how_long_were_you_able_to_stop_smoking',\n",
       " 'unit_of_measure_dayweekmonthyear_2_smq',\n",
       " 'current_selfreported_height_inches',\n",
       " 'current_selfreported_weight_pounds',\n",
       " 'tried_to_lose_weight_in_past_year',\n",
       " 'times_lost10_lbs_or_more_to_lose_weight']"
      ]
     },
     "execution_count": 37,
     "metadata": {},
     "output_type": "execute_result"
    }
   ],
   "source": [
    "nhanes_raw_df = (\n",
    "    nhanes.load.load_NHANES_data(year='2017-2018')\n",
    "    .clean_names(case_type ='snake')\n",
    ")\n",
    "list(nhanes_raw_df.columns)"
   ]
  },
  {
   "cell_type": "markdown",
   "metadata": {
    "cell_id": "c467e4d4f4514cb69e5ce2115f6a35a4",
    "deepnote_cell_height": 70,
    "deepnote_cell_type": "markdown",
    "tags": []
   },
   "source": [
    "## Procesar los datos de NHANES"
   ]
  },
  {
   "cell_type": "code",
   "execution_count": 38,
   "metadata": {
    "cell_id": "c9c758ceafa846f1bcf850d5844ddfeb",
    "deepnote_cell_type": "code",
    "deepnote_to_be_reexecuted": false,
    "execution_millis": 1394,
    "execution_start": 1659038362445,
    "output_cleared": true,
    "source_hash": "d670f361",
    "tags": []
   },
   "outputs": [
    {
     "name": "stderr",
     "output_type": "stream",
     "text": [
      "/home/esteb/miniconda3/envs/missing_values_exploration/lib/python3.9/site-packages/pandas_flavor/register.py:164: FutureWarning: This function will be deprecated in a 1.x release. Please use `jn.select` instead.\n",
      "  return method(self._obj, *args, **kwargs)\n",
      "/home/esteb/miniconda3/envs/missing_values_exploration/lib/python3.9/site-packages/pandas_flavor/register.py:164: FutureWarning: This function will be deprecated in a 1.x release. Please use `pd.DataFrame.rename` instead.\n",
      "  return method(self._obj, *args, **kwargs)\n"
     ]
    },
    {
     "data": {
      "application/vnd.microsoft.datawrangler.viewer.v0+json": {
       "columns": [
        {
         "name": "SEQN",
         "rawType": "float64",
         "type": "float"
        },
        {
         "name": "height",
         "rawType": "float64",
         "type": "float"
        },
        {
         "name": "weight",
         "rawType": "float64",
         "type": "float"
        },
        {
         "name": "general_health_condition",
         "rawType": "object",
         "type": "unknown"
        },
        {
         "name": "pulse",
         "rawType": "float64",
         "type": "float"
        },
        {
         "name": "total_cholesterol",
         "rawType": "float64",
         "type": "float"
        },
        {
         "name": "diabetes",
         "rawType": "int64",
         "type": "integer"
        },
        {
         "name": "gender",
         "rawType": "object",
         "type": "string"
        },
        {
         "name": "age",
         "rawType": "float64",
         "type": "float"
        }
       ],
       "ref": "ea83511d-2928-4a70-bf04-4c0658834a85",
       "rows": [
        [
         "93703.0",
         null,
         null,
         null,
         null,
         null,
         "0",
         "Female",
         "2.0"
        ],
        [
         "93704.0",
         null,
         null,
         null,
         null,
         "144.0",
         "0",
         "Male",
         "2.0"
        ],
        [
         "93705.0",
         "63.0",
         "165.0",
         "Good",
         "52.0",
         "14.0",
         "0",
         "Female",
         "66.0"
        ],
        [
         "93706.0",
         "68.0",
         "145.0",
         "Very good",
         "82.0",
         "462.0",
         "0",
         "Male",
         "18.0"
        ],
        [
         "93707.0",
         null,
         null,
         "Good",
         "100.0",
         "585.0",
         "0",
         "Male",
         "13.0"
        ],
        [
         "93709.0",
         "62.0",
         "200.0",
         null,
         "74.0",
         null,
         "0",
         "Female",
         "75.0"
        ],
        [
         "93711.0",
         "69.0",
         "142.0",
         "Very good",
         "62.0",
         "546.0",
         "0",
         "Male",
         "56.0"
        ],
        [
         "93712.0",
         "68.0",
         "135.0",
         "Good",
         "68.0",
         "216.0",
         "0",
         "Male",
         "18.0"
        ],
        [
         "93713.0",
         "70.0",
         "165.0",
         "Very good",
         "90.0",
         "176.0",
         "0",
         "Male",
         "67.0"
        ],
        [
         "93714.0",
         "60.0",
         "210.0",
         "Good",
         "90.0",
         "965.0",
         "1",
         "Female",
         "54.0"
        ],
        [
         "93715.0",
         "68.0",
         "154.0",
         "Fair or",
         "66.0",
         "470.0",
         "0",
         "Male",
         "71.0"
        ],
        [
         "93716.0",
         "62.0",
         "170.0",
         "Very good",
         "58.0",
         "300.0",
         "0",
         "Male",
         "61.0"
        ],
        [
         "93717.0",
         "68.0",
         "162.0",
         "Very good",
         "60.0",
         "384.0",
         "0",
         "Male",
         "22.0"
        ],
        [
         "93718.0",
         "61.0",
         "140.0",
         "Good",
         "82.0",
         null,
         "0",
         "Male",
         "45.0"
        ],
        [
         "93719.0",
         null,
         null,
         "Excellent",
         "66.0",
         "275.0",
         "0",
         "Female",
         "13.0"
        ],
        [
         "93720.0",
         null,
         null,
         null,
         null,
         "71.0",
         "0",
         "Female",
         "1.0"
        ],
        [
         "93721.0",
         "61.0",
         "180.0",
         "Good",
         "58.0",
         "608.0",
         "0",
         "Female",
         "60.0"
        ],
        [
         "93722.0",
         "61.0",
         "120.0",
         "Good",
         "60.0",
         "97.0",
         "0",
         "Female",
         "60.0"
        ],
        [
         "93724.0",
         null,
         null,
         null,
         null,
         "46.0",
         "0",
         "Female",
         "5.0"
        ],
        [
         "93725.0",
         null,
         null,
         null,
         null,
         null,
         "0",
         "Female",
         "9.0"
        ],
        [
         "93726.0",
         "61.0",
         "162.0",
         "Very good",
         "84.0",
         "600.0",
         "0",
         "Female",
         "67.0"
        ],
        [
         "93727.0",
         "65.0",
         "138.0",
         "Excellent",
         "60.0",
         "544.0",
         "0",
         "Male",
         "70.0"
        ],
        [
         "93728.0",
         "75.0",
         "255.0",
         "Good",
         "78.0",
         "301.0",
         "0",
         "Male",
         "53.0"
        ],
        [
         "93729.0",
         "70.0",
         "180.0",
         "Fair or",
         "66.0",
         "460.0",
         "0",
         "Male",
         "42.0"
        ],
        [
         "93730.0",
         "66.0",
         "180.0",
         null,
         "94.0",
         null,
         "1",
         "Male",
         "57.0"
        ],
        [
         "93731.0",
         "73.0",
         "202.0",
         "Very good",
         "86.0",
         "266.0",
         "0",
         "Male",
         "20.0"
        ],
        [
         "93732.0",
         "65.0",
         "119.0",
         "Good",
         "76.0",
         "327.0",
         "0",
         "Male",
         "72.0"
        ],
        [
         "93733.0",
         null,
         null,
         null,
         "100.0",
         "326.0",
         "0",
         "Female",
         "11.0"
        ],
        [
         "93735.0",
         "59.0",
         "146.0",
         null,
         "62.0",
         "123.0",
         "0",
         "Male",
         "52.0"
        ],
        [
         "93736.0",
         null,
         null,
         null,
         "92.0",
         "34.0",
         "0",
         "Male",
         "11.0"
        ],
        [
         "93737.0",
         null,
         null,
         null,
         "82.0",
         null,
         "0",
         "Male",
         "8.0"
        ],
        [
         "93738.0",
         "66.0",
         "218.0",
         "Good",
         "70.0",
         "157.0",
         "0",
         "Male",
         "26.0"
        ],
        [
         "93739.0",
         null,
         null,
         null,
         null,
         "143.0",
         "0",
         "Female",
         "5.0"
        ],
        [
         "93740.0",
         "73.0",
         "235.0",
         "Poor?",
         "64.0",
         "199.0",
         "1",
         "Male",
         "72.0"
        ],
        [
         "93741.0",
         null,
         null,
         null,
         "62.0",
         "488.0",
         "0",
         "Female",
         "9.0"
        ],
        [
         "93742.0",
         "72.0",
         "230.0",
         "Fair or",
         "84.0",
         "448.0",
         "1",
         "Male",
         "72.0"
        ],
        [
         "93743.0",
         "76.0",
         "178.0",
         "Very good",
         "68.0",
         "420.0",
         "0",
         "Male",
         "61.0"
        ],
        [
         "93744.0",
         null,
         null,
         null,
         null,
         "276.0",
         "0",
         "Female",
         "10.0"
        ],
        [
         "93745.0",
         null,
         null,
         null,
         null,
         null,
         "0",
         "Male",
         "5.0"
        ],
        [
         "93746.0",
         "63.0",
         "140.0",
         "Very good",
         "86.0",
         "319.0",
         "0",
         "Female",
         "25.0"
        ],
        [
         "93747.0",
         null,
         null,
         "Good",
         "80.0",
         "155.0",
         "0",
         "Female",
         "13.0"
        ],
        [
         "93749.0",
         null,
         null,
         null,
         null,
         null,
         "0",
         "Female",
         "1.0"
        ],
        [
         "93751.0",
         null,
         null,
         null,
         null,
         null,
         "0",
         "Female",
         "7.0"
        ],
        [
         "93752.0",
         "61.0",
         "131.0",
         "Good",
         "72.0",
         "84.0",
         "0",
         "Female",
         "73.0"
        ],
        [
         "93753.0",
         null,
         null,
         null,
         "72.0",
         "158.0",
         "0",
         "Female",
         "10.0"
        ],
        [
         "93754.0",
         "64.0",
         "187.0",
         "Good",
         "74.0",
         "86.0",
         "0",
         "Male",
         "72.0"
        ],
        [
         "93755.0",
         "70.0",
         "200.0",
         "Very good",
         "86.0",
         "702.0",
         "0",
         "Female",
         "26.0"
        ],
        [
         "93756.0",
         "63.0",
         "166.0",
         null,
         "62.0",
         "172.0",
         "0",
         "Female",
         "64.0"
        ],
        [
         "93757.0",
         "69.0",
         "240.0",
         "Good",
         "70.0",
         "274.0",
         "0",
         "Male",
         "63.0"
        ],
        [
         "93758.0",
         "62.0",
         "170.0",
         "Fair or",
         "72.0",
         "788.0",
         "1",
         "Female",
         "55.0"
        ]
       ],
       "shape": {
        "columns": 8,
        "rows": 8187
       }
      },
      "text/html": [
       "<div>\n",
       "<style scoped>\n",
       "    .dataframe tbody tr th:only-of-type {\n",
       "        vertical-align: middle;\n",
       "    }\n",
       "\n",
       "    .dataframe tbody tr th {\n",
       "        vertical-align: top;\n",
       "    }\n",
       "\n",
       "    .dataframe thead th {\n",
       "        text-align: right;\n",
       "    }\n",
       "</style>\n",
       "<table border=\"1\" class=\"dataframe\">\n",
       "  <thead>\n",
       "    <tr style=\"text-align: right;\">\n",
       "      <th></th>\n",
       "      <th>height</th>\n",
       "      <th>weight</th>\n",
       "      <th>general_health_condition</th>\n",
       "      <th>pulse</th>\n",
       "      <th>total_cholesterol</th>\n",
       "      <th>diabetes</th>\n",
       "      <th>gender</th>\n",
       "      <th>age</th>\n",
       "    </tr>\n",
       "    <tr>\n",
       "      <th>SEQN</th>\n",
       "      <th></th>\n",
       "      <th></th>\n",
       "      <th></th>\n",
       "      <th></th>\n",
       "      <th></th>\n",
       "      <th></th>\n",
       "      <th></th>\n",
       "      <th></th>\n",
       "    </tr>\n",
       "  </thead>\n",
       "  <tbody>\n",
       "    <tr>\n",
       "      <th>93703.0</th>\n",
       "      <td>NaN</td>\n",
       "      <td>NaN</td>\n",
       "      <td>NaN</td>\n",
       "      <td>NaN</td>\n",
       "      <td>NaN</td>\n",
       "      <td>0</td>\n",
       "      <td>Female</td>\n",
       "      <td>2.0</td>\n",
       "    </tr>\n",
       "    <tr>\n",
       "      <th>93704.0</th>\n",
       "      <td>NaN</td>\n",
       "      <td>NaN</td>\n",
       "      <td>NaN</td>\n",
       "      <td>NaN</td>\n",
       "      <td>144.0</td>\n",
       "      <td>0</td>\n",
       "      <td>Male</td>\n",
       "      <td>2.0</td>\n",
       "    </tr>\n",
       "    <tr>\n",
       "      <th>93705.0</th>\n",
       "      <td>63.0</td>\n",
       "      <td>165.0</td>\n",
       "      <td>Good</td>\n",
       "      <td>52.0</td>\n",
       "      <td>14.0</td>\n",
       "      <td>0</td>\n",
       "      <td>Female</td>\n",
       "      <td>66.0</td>\n",
       "    </tr>\n",
       "    <tr>\n",
       "      <th>93706.0</th>\n",
       "      <td>68.0</td>\n",
       "      <td>145.0</td>\n",
       "      <td>Very good</td>\n",
       "      <td>82.0</td>\n",
       "      <td>462.0</td>\n",
       "      <td>0</td>\n",
       "      <td>Male</td>\n",
       "      <td>18.0</td>\n",
       "    </tr>\n",
       "    <tr>\n",
       "      <th>93707.0</th>\n",
       "      <td>NaN</td>\n",
       "      <td>NaN</td>\n",
       "      <td>Good</td>\n",
       "      <td>100.0</td>\n",
       "      <td>585.0</td>\n",
       "      <td>0</td>\n",
       "      <td>Male</td>\n",
       "      <td>13.0</td>\n",
       "    </tr>\n",
       "    <tr>\n",
       "      <th>...</th>\n",
       "      <td>...</td>\n",
       "      <td>...</td>\n",
       "      <td>...</td>\n",
       "      <td>...</td>\n",
       "      <td>...</td>\n",
       "      <td>...</td>\n",
       "      <td>...</td>\n",
       "      <td>...</td>\n",
       "    </tr>\n",
       "    <tr>\n",
       "      <th>102951.0</th>\n",
       "      <td>NaN</td>\n",
       "      <td>NaN</td>\n",
       "      <td>NaN</td>\n",
       "      <td>NaN</td>\n",
       "      <td>49.0</td>\n",
       "      <td>0</td>\n",
       "      <td>Male</td>\n",
       "      <td>4.0</td>\n",
       "    </tr>\n",
       "    <tr>\n",
       "      <th>102953.0</th>\n",
       "      <td>65.0</td>\n",
       "      <td>218.0</td>\n",
       "      <td>Fair or</td>\n",
       "      <td>78.0</td>\n",
       "      <td>306.0</td>\n",
       "      <td>0</td>\n",
       "      <td>Male</td>\n",
       "      <td>42.0</td>\n",
       "    </tr>\n",
       "    <tr>\n",
       "      <th>102954.0</th>\n",
       "      <td>66.0</td>\n",
       "      <td>150.0</td>\n",
       "      <td>Good</td>\n",
       "      <td>78.0</td>\n",
       "      <td>361.0</td>\n",
       "      <td>0</td>\n",
       "      <td>Female</td>\n",
       "      <td>41.0</td>\n",
       "    </tr>\n",
       "    <tr>\n",
       "      <th>102955.0</th>\n",
       "      <td>NaN</td>\n",
       "      <td>NaN</td>\n",
       "      <td>Very good</td>\n",
       "      <td>74.0</td>\n",
       "      <td>116.0</td>\n",
       "      <td>0</td>\n",
       "      <td>Female</td>\n",
       "      <td>14.0</td>\n",
       "    </tr>\n",
       "    <tr>\n",
       "      <th>102956.0</th>\n",
       "      <td>69.0</td>\n",
       "      <td>250.0</td>\n",
       "      <td>Good</td>\n",
       "      <td>76.0</td>\n",
       "      <td>307.0</td>\n",
       "      <td>0</td>\n",
       "      <td>Male</td>\n",
       "      <td>38.0</td>\n",
       "    </tr>\n",
       "  </tbody>\n",
       "</table>\n",
       "<p>8187 rows × 8 columns</p>\n",
       "</div>"
      ],
      "text/plain": [
       "          height  weight general_health_condition  pulse  total_cholesterol  \\\n",
       "SEQN                                                                          \n",
       "93703.0      NaN     NaN                      NaN    NaN                NaN   \n",
       "93704.0      NaN     NaN                      NaN    NaN              144.0   \n",
       "93705.0     63.0   165.0                     Good   52.0               14.0   \n",
       "93706.0     68.0   145.0                Very good   82.0              462.0   \n",
       "93707.0      NaN     NaN                     Good  100.0              585.0   \n",
       "...          ...     ...                      ...    ...                ...   \n",
       "102951.0     NaN     NaN                      NaN    NaN               49.0   \n",
       "102953.0    65.0   218.0                  Fair or   78.0              306.0   \n",
       "102954.0    66.0   150.0                     Good   78.0              361.0   \n",
       "102955.0     NaN     NaN                Very good   74.0              116.0   \n",
       "102956.0    69.0   250.0                     Good   76.0              307.0   \n",
       "\n",
       "          diabetes  gender   age  \n",
       "SEQN                              \n",
       "93703.0          0  Female   2.0  \n",
       "93704.0          0    Male   2.0  \n",
       "93705.0          0  Female  66.0  \n",
       "93706.0          0    Male  18.0  \n",
       "93707.0          0    Male  13.0  \n",
       "...            ...     ...   ...  \n",
       "102951.0         0    Male   4.0  \n",
       "102953.0         0    Male  42.0  \n",
       "102954.0         0  Female  41.0  \n",
       "102955.0         0  Female  14.0  \n",
       "102956.0         0    Male  38.0  \n",
       "\n",
       "[8187 rows x 8 columns]"
      ]
     },
     "execution_count": 38,
     "metadata": {},
     "output_type": "execute_result"
    }
   ],
   "source": [
    "nhanes_df = (\n",
    "    nhanes_raw_df\n",
    "    .select_columns(\n",
    "        \"general_health_condition\",\n",
    "        \"gender\",\n",
    "        \"age_in_years_at_screening\",\n",
    "        \"current_selfreported_height_inches\",\n",
    "        \"current_selfreported_weight_pounds\",\n",
    "        \"doctor_told_you_have_diabetes\",\n",
    "        \"60_sec_pulse30_sec_pulse2\",\n",
    "        \"cholesterol_mg_dr1_tot\"\n",
    "    )\n",
    "    .rename_columns(\n",
    "        {\n",
    "           \"age_in_years_at_screening\" : \"age\",\n",
    "           \"current_selfreported_height_inches\" : \"height\",\n",
    "           \"current_selfreported_weight_pounds\" : \"weight\",\n",
    "           \"doctor_told_you_have_diabetes\" : \"diabetes\",\n",
    "           \"60_sec_pulse30_sec_pulse2\" : \"pulse\",\n",
    "           \"cholesterol_mg_dr1_tot\" : \"total_cholesterol\"\n",
    "        }\n",
    "    )\n",
    "    .replace(\n",
    "        {\n",
    "            \"height\" : {\n",
    "                9999: np.nan,\n",
    "                7777: np.nan\n",
    "            },\n",
    "            \"weight\": {\n",
    "                9999: np.nan,\n",
    "                7777: np.nan\n",
    "            },\n",
    "            \"diabetes\": {\n",
    "                \"Borderline\": np.nan\n",
    "            }\n",
    "        }\n",
    "    )\n",
    "    .missing.sort_variables_by_missingness()\n",
    "    .dropna(\n",
    "        subset = ['diabetes'],\n",
    "        how = 'any'\n",
    "    )\n",
    "    .transform_column(\n",
    "        column_name = \"diabetes\",\n",
    "        function = lambda s: s.astype(int),\n",
    "        elementwise = False\n",
    "    )\n",
    ")\n",
    "nhanes_df"
   ]
  },
  {
   "cell_type": "markdown",
   "metadata": {
    "cell_id": "40b22368094349ec8d227f0bd3114651",
    "deepnote_cell_height": 70,
    "deepnote_cell_type": "markdown",
    "tags": []
   },
   "source": [
    "## Visualizar los valores faltantes"
   ]
  },
  {
   "cell_type": "code",
   "execution_count": 39,
   "metadata": {
    "cell_id": "a388378d8c074860ba5376cc97c18f27",
    "deepnote_cell_type": "code",
    "deepnote_to_be_reexecuted": false,
    "execution_millis": 1334,
    "execution_start": 1659038362528,
    "output_cleared": true,
    "source_hash": "ab1d57a6",
    "tags": []
   },
   "outputs": [
    {
     "data": {
      "text/plain": [
       "<AxesSubplot:>"
      ]
     },
     "execution_count": 39,
     "metadata": {},
     "output_type": "execute_result"
    },
    {
     "data": {
      "image/png": "[encoded data removed]",
      "text/plain": [
       "<Figure size 2500x1000 with 2 Axes>"
      ]
     },
     "metadata": {},
     "output_type": "display_data"
    }
   ],
   "source": [
    "(\n",
    "    nhanes_df\n",
    "    .missing.sort_variables_by_missingness()\n",
    "    .pipe(missingno.matrix, sort = 'descending')\n",
    ")"
   ]
  },
  {
   "cell_type": "code",
   "execution_count": 41,
   "metadata": {
    "cell_id": "69dcbaa87c354cb4bf91ffc0a09e6ba8",
    "deepnote_cell_type": "code",
    "deepnote_to_be_reexecuted": false,
    "execution_millis": 32,
    "execution_start": 1659038363847,
    "output_cleared": true,
    "source_hash": "822aa40e",
    "tags": []
   },
   "outputs": [
    {
     "name": "stderr",
     "output_type": "stream",
     "text": [
      "/home/esteb/miniconda3/envs/missing_values_exploration/lib/python3.9/site-packages/upsetplot/plotting.py:781: FutureWarning: A value is trying to be set on a copy of a DataFrame or Series through chained assignment using an inplace method.\n",
      "The behavior will change in pandas 3.0. This inplace method will never work because the intermediate object on which we are setting values always behaves as a copy.\n",
      "\n",
      "For example, when doing 'df[col].method(value, inplace=True)', try using 'df.method({col: value}, inplace=True)' or df[col] = df[col].method(value) instead, to perform the operation inplace on the original object.\n",
      "\n",
      "\n",
      "  styles[\"linewidth\"].fillna(1, inplace=True)\n",
      "/home/esteb/miniconda3/envs/missing_values_exploration/lib/python3.9/site-packages/upsetplot/plotting.py:782: FutureWarning: A value is trying to be set on a copy of a DataFrame or Series through chained assignment using an inplace method.\n",
      "The behavior will change in pandas 3.0. This inplace method will never work because the intermediate object on which we are setting values always behaves as a copy.\n",
      "\n",
      "For example, when doing 'df[col].method(value, inplace=True)', try using 'df.method({col: value}, inplace=True)' or df[col] = df[col].method(value) instead, to perform the operation inplace on the original object.\n",
      "\n",
      "\n",
      "  styles[\"facecolor\"].fillna(self._facecolor, inplace=True)\n",
      "/home/esteb/miniconda3/envs/missing_values_exploration/lib/python3.9/site-packages/upsetplot/plotting.py:783: FutureWarning: A value is trying to be set on a copy of a DataFrame or Series through chained assignment using an inplace method.\n",
      "The behavior will change in pandas 3.0. This inplace method will never work because the intermediate object on which we are setting values always behaves as a copy.\n",
      "\n",
      "For example, when doing 'df[col].method(value, inplace=True)', try using 'df.method({col: value}, inplace=True)' or df[col] = df[col].method(value) instead, to perform the operation inplace on the original object.\n",
      "\n",
      "\n",
      "  styles[\"edgecolor\"].fillna(styles[\"facecolor\"], inplace=True)\n",
      "/home/esteb/miniconda3/envs/missing_values_exploration/lib/python3.9/site-packages/upsetplot/plotting.py:783: FutureWarning: Setting an item of incompatible dtype is deprecated and will raise an error in a future version of pandas. Value '['#0000002e' '#0000002e' '#0000002e' '#0000002e' '#0000002e' '#0000002e'\n",
      " '#0000002e' '#0000002e' 'black' '#0000002e' '#0000002e' '#0000002e'\n",
      " '#0000002e' '#0000002e' '#0000002e' '#0000002e' '#0000002e' 'black'\n",
      " '#0000002e' '#0000002e' '#0000002e' '#0000002e' '#0000002e' '#0000002e'\n",
      " '#0000002e' '#0000002e' 'black' '#0000002e' '#0000002e' '#0000002e'\n",
      " '#0000002e' '#0000002e' '#0000002e' '#0000002e' '#0000002e' 'black'\n",
      " '#0000002e' '#0000002e' '#0000002e' '#0000002e' '#0000002e' '#0000002e'\n",
      " '#0000002e' '#0000002e' 'black' '#0000002e' '#0000002e' '#0000002e'\n",
      " 'black' 'black' '#0000002e' '#0000002e' '#0000002e' '#0000002e'\n",
      " '#0000002e' '#0000002e' 'black' '#0000002e' 'black' '#0000002e'\n",
      " '#0000002e' '#0000002e' '#0000002e' '#0000002e' '#0000002e' 'black'\n",
      " 'black' '#0000002e' '#0000002e' '#0000002e' '#0000002e' '#0000002e'\n",
      " 'black' '#0000002e' '#0000002e' 'black' '#0000002e' '#0000002e'\n",
      " '#0000002e' '#0000002e' '#0000002e' 'black' '#0000002e' 'black'\n",
      " '#0000002e' '#0000002e' '#0000002e' '#0000002e' '#0000002e' '#0000002e'\n",
      " 'black' 'black' '#0000002e' '#0000002e' '#0000002e' '#0000002e' 'black'\n",
      " '#0000002e' '#0000002e' '#0000002e' 'black' '#0000002e' '#0000002e'\n",
      " '#0000002e' '#0000002e' 'black' '#0000002e' '#0000002e' 'black'\n",
      " '#0000002e' '#0000002e' '#0000002e' '#0000002e' '#0000002e' 'black'\n",
      " '#0000002e' 'black' '#0000002e' '#0000002e' '#0000002e' '#0000002e'\n",
      " '#0000002e' '#0000002e' 'black' 'black' '#0000002e' '#0000002e'\n",
      " '#0000002e' 'black' 'black' 'black' '#0000002e' '#0000002e' '#0000002e'\n",
      " '#0000002e' '#0000002e' 'black' 'black' '#0000002e' 'black' '#0000002e'\n",
      " '#0000002e' '#0000002e' '#0000002e' 'black' '#0000002e' 'black' 'black'\n",
      " '#0000002e' '#0000002e' '#0000002e' '#0000002e' 'black' 'black'\n",
      " '#0000002e' '#0000002e' 'black' '#0000002e' '#0000002e' '#0000002e'\n",
      " 'black' '#0000002e' 'black' '#0000002e' 'black' '#0000002e' '#0000002e'\n",
      " '#0000002e' '#0000002e' 'black' 'black' '#0000002e' 'black' '#0000002e'\n",
      " '#0000002e' '#0000002e' 'black' '#0000002e' '#0000002e' 'black' 'black'\n",
      " '#0000002e' '#0000002e' '#0000002e' '#0000002e' 'black' '#0000002e'\n",
      " 'black' 'black' '#0000002e' '#0000002e' '#0000002e' '#0000002e'\n",
      " '#0000002e' 'black' 'black' 'black' '#0000002e' '#0000002e' '#0000002e'\n",
      " 'black' 'black' 'black' 'black' '#0000002e' '#0000002e' '#0000002e'\n",
      " '#0000002e' 'black' 'black' 'black' '#0000002e' 'black' '#0000002e'\n",
      " '#0000002e' '#0000002e' 'black' 'black' '#0000002e' 'black' 'black'\n",
      " '#0000002e' '#0000002e' '#0000002e' 'black' '#0000002e' 'black' 'black'\n",
      " 'black' '#0000002e' '#0000002e' '#0000002e' '#0000002e' 'black' 'black'\n",
      " 'black' 'black' '#0000002e' '#0000002e' '#0000002e' 'black' 'black'\n",
      " 'black' 'black' 'black' '#0000002e' '#0000002e' '#0000002e']' has dtype incompatible with float64, please explicitly cast to a compatible dtype first.\n",
      "  styles[\"edgecolor\"].fillna(styles[\"facecolor\"], inplace=True)\n",
      "/home/esteb/miniconda3/envs/missing_values_exploration/lib/python3.9/site-packages/upsetplot/plotting.py:784: FutureWarning: A value is trying to be set on a copy of a DataFrame or Series through chained assignment using an inplace method.\n",
      "The behavior will change in pandas 3.0. This inplace method will never work because the intermediate object on which we are setting values always behaves as a copy.\n",
      "\n",
      "For example, when doing 'df[col].method(value, inplace=True)', try using 'df.method({col: value}, inplace=True)' or df[col] = df[col].method(value) instead, to perform the operation inplace on the original object.\n",
      "\n",
      "\n",
      "  styles[\"linestyle\"].fillna(\"solid\", inplace=True)\n",
      "/home/esteb/miniconda3/envs/missing_values_exploration/lib/python3.9/site-packages/upsetplot/plotting.py:784: FutureWarning: Setting an item of incompatible dtype is deprecated and will raise an error in a future version of pandas. Value 'solid' has dtype incompatible with float64, please explicitly cast to a compatible dtype first.\n",
      "  styles[\"linestyle\"].fillna(\"solid\", inplace=True)\n"
     ]
    },
    {
     "data": {
      "text/plain": [
       "{'matrix': <AxesSubplot:>,\n",
       " 'shading': <AxesSubplot:>,\n",
       " 'totals': <AxesSubplot:>,\n",
       " 'intersections': <AxesSubplot:ylabel='Intersection size'>}"
      ]
     },
     "execution_count": 41,
     "metadata": {},
     "output_type": "execute_result"
    },
    {
     "data": {
      "image/png": "[encoded data removed]",
      "text/plain": [
       "<Figure size 1733.33x622.222 with 4 Axes>"
      ]
     },
     "metadata": {},
     "output_type": "display_data"
    }
   ],
   "source": [
    "(\n",
    "    nhanes_df\n",
    "    .missing.sort_variables_by_missingness()\n",
    "    .missing.missing_upsetplot()\n",
    ")"
   ]
  },
  {
   "cell_type": "code",
   "execution_count": 44,
   "metadata": {
    "cell_id": "5d6fcd63f0ea449697362bcd331f8e5d",
    "deepnote_cell_type": "code",
    "deepnote_to_be_reexecuted": false,
    "execution_millis": 522,
    "execution_start": 1659038363863,
    "output_cleared": true,
    "source_hash": "373b8de",
    "tags": []
   },
   "outputs": [
    {
     "data": {
      "text/plain": [
       "<AxesSubplot:>"
      ]
     },
     "execution_count": 44,
     "metadata": {},
     "output_type": "execute_result"
    },
    {
     "data": {
      "image/png": "[encoded data removed]",
      "text/plain": [
       "<Figure size 2500x1000 with 2 Axes>"
      ]
     },
     "metadata": {},
     "output_type": "display_data"
    }
   ],
   "source": [
    "(\n",
    "    nhanes_df\n",
    "    .dropna(\n",
    "        subset = ['pulse','total_cholesterol','general_health_condition',\"weight\"],\n",
    "        how = 'all'\n",
    "    )\n",
    "    .missing.sort_variables_by_missingness()\n",
    "    .pipe(\n",
    "        missingno.matrix, sort = 'descending'\n",
    "    )\n",
    ")"
   ]
  },
  {
   "cell_type": "markdown",
   "metadata": {
    "cell_id": "a39edae7cc61460b9f45d0d0b03085c8",
    "deepnote_cell_height": 70,
    "deepnote_cell_type": "markdown",
    "tags": []
   },
   "source": [
    "## Eliminar valores faltantes"
   ]
  },
  {
   "cell_type": "code",
   "execution_count": null,
   "metadata": {
    "cell_id": "d72a194ed209455882108be436746fe9",
    "deepnote_cell_type": "code",
    "deepnote_to_be_reexecuted": false,
    "execution_millis": 21,
    "execution_start": 1659038364403,
    "output_cleared": true,
    "owner_user_id": "bc32f83c-a807-4a78-8769-dff22df5fe36",
    "source_hash": "8e5422e7",
    "tags": []
   },
   "outputs": [
    {
     "data": {
      "text/plain": [
       "(7837, 8)"
      ]
     },
     "execution_count": 46,
     "metadata": {},
     "output_type": "execute_result"
    }
   ],
   "source": [
    "nhanes_df = (\n",
    "    nhanes_df\n",
    "    .dropna(\n",
    "        subset = ['pulse','total_cholesterol','general_health_condition',\"weight\"],\n",
    "        how = 'all'\n",
    "    )\n",
    "    .missing.sort_variables_by_missingness()\n",
    ")\n",
    "nhanes_df.shape"
   ]
  },
  {
   "cell_type": "markdown",
   "metadata": {
    "created_in_deepnote_cell": true,
    "deepnote_cell_type": "markdown",
    "tags": []
   },
   "source": [
    "<a style='text-decoration:none;line-height:16px;display:flex;color:#5B5B62;padding:10px;justify-content:end;' href='https://deepnote.com?utm_source=created-in-deepnote-cell&projectId=bdf84ff9-f66c-44c7-a67c-ca1115a2b683' target=\"_blank\">\n",
    "<img alt='Created in deepnote.com' style='display:inline;max-height:16px;margin:0px;margin-right:7.5px;' src='data:image/svg+xml;base64,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' > </img>\n",
    "Created in <span style='font-weight:600;margin-left:4px;'>Deepnote</span></a>"
   ]
  }
 ],
 "metadata": {
  "deepnote": {},
  "deepnote_execution_queue": [],
  "deepnote_notebook_id": "716009e716c944a58f09ee33f054c3dc",
  "kernelspec": {
   "display_name": "missing_values_exploration",
   "language": "python",
   "name": "python3"
  },
  "language_info": {
   "codemirror_mode": {
    "name": "ipython",
    "version": 3
   },
   "file_extension": ".py",
   "mimetype": "text/x-python",
   "name": "python",
   "nbconvert_exporter": "python",
   "pygments_lexer": "ipython3",
   "version": "3.9.23"
  },
  "orig_nbformat": 2
 },
 "nbformat": 4,
 "nbformat_minor": 0
}
